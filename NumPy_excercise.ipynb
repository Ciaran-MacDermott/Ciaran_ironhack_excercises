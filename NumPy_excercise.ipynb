{
 "cells": [
  {
   "cell_type": "code",
   "execution_count": 1,
   "id": "ad9cc2ea",
   "metadata": {},
   "outputs": [],
   "source": [
    "##### 1. Import the numpy package under the name `np` (★☆☆)\n",
    "\n",
    "import numpy as np"
   ]
  },
  {
   "cell_type": "code",
   "execution_count": 3,
   "id": "2e1ead34",
   "metadata": {},
   "outputs": [
    {
     "data": {
      "text/plain": [
       "array([0., 0., 0., 0., 0., 0., 0., 0., 0., 0.])"
      ]
     },
     "execution_count": 3,
     "metadata": {},
     "output_type": "execute_result"
    }
   ],
   "source": [
    " #2. Create a null vector of size 10 (★☆☆)\n",
    "np.zeros(10)"
   ]
  },
  {
   "cell_type": "code",
   "execution_count": 7,
   "id": "7a4b2bb8",
   "metadata": {},
   "outputs": [
    {
     "name": "stdout",
     "output_type": "stream",
     "text": [
      "[0. 0. 0. 0. 1. 0. 0. 0. 0. 0.]\n"
     ]
    }
   ],
   "source": [
    "# 3. Create a null vector of size 10 but the fifth value which is 1 (★☆☆)\n",
    "x=np.zeros(10)\n",
    "x[4]=1\n",
    "print(x)"
   ]
  },
  {
   "cell_type": "code",
   "execution_count": 13,
   "id": "14bc00a8",
   "metadata": {},
   "outputs": [
    {
     "name": "stdout",
     "output_type": "stream",
     "text": [
      "[10 11 12 13 14 15 16 17 18 19 20 21 22 23 24 25 26 27 28 29 30 31 32 33\n",
      " 34 35 36 37 38 39 40 41 42 43 44 45 46 47 48 49]\n"
     ]
    }
   ],
   "source": [
    " #4. Create a vector with values ranging from 10 to 49 (★☆☆)\n",
    "x = np.arange(10,50)\n",
    "print(x)\n"
   ]
  },
  {
   "cell_type": "code",
   "execution_count": 14,
   "id": "1e8aebca",
   "metadata": {},
   "outputs": [
    {
     "name": "stdout",
     "output_type": "stream",
     "text": [
      "[[0 1 2]\n",
      " [3 4 5]\n",
      " [6 7 8]]\n"
     ]
    }
   ],
   "source": [
    "# 5. Create a 3x3 matrix with values ranging from 0 to 8 (★☆☆)\n",
    "x =  np.arange(0, 9).reshape(3,3)\n",
    "print(x)"
   ]
  },
  {
   "cell_type": "code",
   "execution_count": 15,
   "id": "d65e2d9f",
   "metadata": {},
   "outputs": [
    {
     "name": "stdout",
     "output_type": "stream",
     "text": [
      "(array([0, 1, 4]),)\n"
     ]
    }
   ],
   "source": [
    "#6. Find indices of non-zero elements from [1,2,0,0,4,0] (★☆☆)\n",
    "#`hint: np.nonzero\n",
    "x=[1,2,0,0,4,0]\n",
    "print(np.nonzero(x))\n"
   ]
  },
  {
   "cell_type": "code",
   "execution_count": 16,
   "id": "df93b245",
   "metadata": {},
   "outputs": [
    {
     "name": "stdout",
     "output_type": "stream",
     "text": [
      "[[1. 0. 0.]\n",
      " [0. 1. 0.]\n",
      " [0. 0. 1.]]\n"
     ]
    }
   ],
   "source": [
    "7.#Create a 3x3 identity matrix (★☆☆)`hint: np.eye`\n",
    "x = np.eye(3)\n",
    "print(x)\n"
   ]
  },
  {
   "cell_type": "code",
   "execution_count": 24,
   "id": "1816e939",
   "metadata": {},
   "outputs": [
    {
     "name": "stdout",
     "output_type": "stream",
     "text": [
      "[[[0.26288777 0.7402768  0.41290296]\n",
      "  [0.09534717 0.90243628 0.5825173 ]\n",
      "  [0.77434507 0.18660283 0.02761694]]\n",
      "\n",
      " [[0.84816352 0.24817859 0.64112226]\n",
      "  [0.41692002 0.3245956  0.57769528]\n",
      "  [0.88806019 0.26271656 0.7602296 ]]\n",
      "\n",
      " [[0.44381149 0.49523886 0.1507783 ]\n",
      "  [0.83424324 0.27234385 0.49616571]\n",
      "  [0.66618597 0.92051479 0.96790993]]]\n"
     ]
    }
   ],
   "source": [
    "# 8. Create a 3x3x3 array with random values (★☆☆)`hint: np.random.random`\n",
    "x = np.random.random((3,3,3))\n",
    "print(x)\n",
    "\n"
   ]
  },
  {
   "cell_type": "code",
   "execution_count": 19,
   "id": "dcbcb92d",
   "metadata": {},
   "outputs": [
    {
     "name": "stdout",
     "output_type": "stream",
     "text": [
      "[0.82476471 0.10333376 0.92038457 0.55949987 0.33987561 0.60611587\n",
      " 0.21869797 0.63568401 0.41320965 0.76043841]\n"
     ]
    }
   ],
   "source": [
    "# 9. Create a 10x10 array with random values and find the minimum and maximum values (★☆☆)min, max`\n",
    "x = np.random.random(10)\n",
    "print(x)"
   ]
  },
  {
   "cell_type": "code",
   "execution_count": 28,
   "id": "c76536e3",
   "metadata": {},
   "outputs": [
    {
     "name": "stdout",
     "output_type": "stream",
     "text": [
      "[0.52762153 0.04821976 0.68366698 0.95641942 0.18843972 0.14695172\n",
      " 0.14797788 0.07462478 0.49018657 0.50265731 0.67645306 0.16346632\n",
      " 0.68251081 0.34430832 0.03645059 0.14758477 0.52757596 0.72849925\n",
      " 0.40416358 0.63564637 0.41194287 0.99269696 0.52844169 0.84236562\n",
      " 0.96002584 0.67263287 0.0357244  0.7069354  0.38877065 0.56116639]\n",
      "0.47380424652750586\n"
     ]
    }
   ],
   "source": [
    "#10Create a random vector of size 30 and find the mean value (★☆☆)`hint: mean`\n",
    "x = np.random.random(30)\n",
    "print(x)\n",
    "import statistics as stats\n",
    "y=stats.mean(x)\n",
    "print(y)\n",
    "\n"
   ]
  },
  {
   "cell_type": "code",
   "execution_count": 29,
   "id": "5dcee832",
   "metadata": {},
   "outputs": [
    {
     "name": "stdout",
     "output_type": "stream",
     "text": [
      "[[1 0 0 0 0]\n",
      " [0 2 0 0 0]\n",
      " [0 0 3 0 0]\n",
      " [0 0 0 4 0]\n",
      " [0 0 0 0 5]]\n"
     ]
    }
   ],
   "source": [
    "11. # 11. Create a 5x5 matrix with values 1,2,3,4 just below the diagonal (★☆☆)\n",
    "\n",
    "x = np.diag([1, 2, 3, 4, 5])\n",
    "print(x)\n"
   ]
  },
  {
   "cell_type": "code",
   "execution_count": 31,
   "id": "37afb09a",
   "metadata": {},
   "outputs": [
    {
     "name": "stdout",
     "output_type": "stream",
     "text": [
      "Original Array:\n",
      "[[0.16393615 0.5626105  0.82917878 0.54941643 0.14996689]\n",
      " [0.49161436 0.54314733 0.21299791 0.36076152 0.7060667 ]\n",
      " [0.1781798  0.04301468 0.84508154 0.93297441 0.88842106]\n",
      " [0.256445   0.34269005 0.11453824 0.30213082 0.99054359]\n",
      " [0.13123841 0.08982555 0.4751009  0.09895684 0.2228511 ]]\n",
      "After normalization:\n",
      "[[0.12761771 0.54836936 0.82969933 0.53444465 0.11287488]\n",
      " [0.47344169 0.52782838 0.17939636 0.33534264 0.6997697 ]\n",
      " [0.14265013 0.         0.84648274 0.93924282 0.89222226]\n",
      " [0.2252494  0.31627043 0.07548431 0.27346516 1.        ]\n",
      " [0.09310928 0.04940311 0.45601376 0.05904006 0.18979519]]\n"
     ]
    }
   ],
   "source": [
    "12 #Normalize a 5x5 random matrix (★☆☆)\n",
    "\n",
    "x= np.random.random((5,5))\n",
    "print(\"Original Array:\")\n",
    "print(x)\n",
    "xmax, xmin = x.max(), x.min()\n",
    "x = (x - xmin)/(xmax - xmin)\n",
    "print(\"After normalization:\")\n",
    "print(x)\n"
   ]
  },
  {
   "cell_type": "markdown",
   "id": "9e86f064",
   "metadata": {},
   "source": [
    "# 13. How to find common values between two arrays?\n",
    "In NumPy, we can find common values between two arrays with the help intersect1d(). It will take parameter two arrays and it will return an array in which all the common elements will appear."
   ]
  },
  {
   "cell_type": "code",
   "execution_count": 32,
   "id": "d8592214",
   "metadata": {},
   "outputs": [
    {
     "name": "stdout",
     "output_type": "stream",
     "text": [
      "Original array: [0.89449118 0.31916465 0.23072424 0.70724615 0.15966179 0.55043993\n",
      " 0.05234961 0.56695108 0.68278263 0.56806945]\n",
      "Sorted array: [0.05234961 0.15966179 0.23072424 0.31916465 0.55043993 0.56695108\n",
      " 0.56806945 0.68278263 0.70724615 0.89449118]\n"
     ]
    }
   ],
   "source": [
    "#14. Create a random vector of size 10 and sort it \n",
    "\n",
    "x = np.random.random(10)\n",
    "print(\"Original array:\", x)\n",
    "\n",
    "x.sort()\n",
    "print(\"Sorted array:\", x)\n",
    "\n"
   ]
  },
  {
   "cell_type": "code",
   "execution_count": 36,
   "id": "56aa678a",
   "metadata": {},
   "outputs": [
    {
     "name": "stdout",
     "output_type": "stream",
     "text": [
      "[0.04658805 0.49222348 0.89388894 0.72924292 0.9025562  0.26935906\n",
      " 0.60882251 0.21214386 0.36723152 0.34404958]\n"
     ]
    }
   ],
   "source": [
    "#15. Create random vector of size 10 and replace the maximum value by 0 `hint: argmax`\n",
    "\n",
    "x = np.random.random(10)\n",
    "\n",
    "np.argmax(x)\n",
    "print(x)\n",
    "\n",
    "\n"
   ]
  },
  {
   "cell_type": "code",
   "execution_count": 37,
   "id": "807603da",
   "metadata": {},
   "outputs": [
    {
     "name": "stdout",
     "output_type": "stream",
     "text": [
      "Original matrix:\n",
      "\n",
      "[[0.21419175 0.65172565 0.85623896 0.47199654 0.44550361 0.96226832\n",
      "  0.26973031 0.20901024 0.88147355 0.4329518 ]\n",
      " [0.58036202 0.04856643 0.31602711 0.19347964 0.86309686 0.45453391\n",
      "  0.52390957 0.42821076 0.8403086  0.61374684]\n",
      " [0.63526255 0.64137622 0.89938885 0.68729325 0.28888081 0.59346334\n",
      "  0.96698074 0.13488445 0.72152248 0.292773  ]\n",
      " [0.95951877 0.17986723 0.57530734 0.46846434 0.77715038 0.09762074\n",
      "  0.06063006 0.46879795 0.6955569  0.72242343]\n",
      " [0.27712855 0.62429211 0.39339901 0.69975144 0.10429814 0.11740004\n",
      "  0.02621896 0.32996674 0.99505481 0.07927035]]\n",
      "\n",
      "Subtract the mean of each row of the said matrix:\n",
      "\n",
      "[[-0.32531732  0.11221657  0.31672988 -0.06751253 -0.09400546  0.42275924\n",
      "  -0.26977876 -0.33049883  0.34196448 -0.10655727]\n",
      " [ 0.09413785 -0.43765774 -0.17019706 -0.29274453  0.37687269 -0.03169027\n",
      "   0.03768539 -0.05801342  0.35408443  0.12752266]\n",
      " [ 0.04907998  0.05519365  0.31320628  0.10111068 -0.29730176  0.00728077\n",
      "   0.38079817 -0.45129812  0.13533991 -0.29340956]\n",
      " [ 0.45898505 -0.32066648  0.07477362 -0.03206938  0.27661667 -0.40291297\n",
      "  -0.43990366 -0.03173576  0.19502319  0.22188972]\n",
      " [-0.08754946  0.25961409  0.028721    0.33507343 -0.26037987 -0.24727797\n",
      "  -0.33845906 -0.03471127  0.63037679 -0.28540767]]\n"
     ]
    }
   ],
   "source": [
    "#16  Subtract the mean of each row of a matrix `hint: mean(axis=,keepdims=)`\n",
    "\n",
    "print(\"Original matrix:\\n\")\n",
    "X = np.random.rand(5, 10)\n",
    "print(X)\n",
    "\n",
    "print(\"\\nSubtract the mean of each row of the said matrix:\\n\")\n",
    "Y = X - X.mean(axis=1, keepdims=True)\n",
    "print(Y)\n",
    "\n",
    "#The keepdims parameter of NumPy mean enables you to control the dimensions of the output. \n",
    "#Specifically, it enables you to make the dimensions of the output \n",
    "#exactly the same as the dimensions of the input array."
   ]
  },
  {
   "cell_type": "code",
   "execution_count": 40,
   "id": "6cc70fe9",
   "metadata": {},
   "outputs": [
    {
     "ename": "SyntaxError",
     "evalue": "invalid syntax (3510768321.py, line 10)",
     "output_type": "error",
     "traceback": [
      "\u001b[0;36m  Input \u001b[0;32mIn [40]\u001b[0;36m\u001b[0m\n\u001b[0;31m    create numpy 1d-array\u001b[0m\n\u001b[0m           ^\u001b[0m\n\u001b[0;31mSyntaxError\u001b[0m\u001b[0;31m:\u001b[0m invalid syntax\n"
     ]
    }
   ],
   "source": [
    "#17  How to get the n largest values of an array \n",
    "#`\n",
    "#hint: np.argsort | np.argpartition`\n",
    "\n",
    "n = 5\n",
    "\n",
    "Z = np.arange(10000)   \n",
    "np.random.shuffle(Z)\n",
    "\n",
    "create numpy 1d-array\n",
    "\n",
    "\n",
    "  \n",
    "# sort an array in\n",
    "# ascending order\n",
    "  \n",
    "# np.argsort() return\n",
    "# array of indices for\n",
    "# sorted array\n",
    "sorted_index_array = np.argsort(arr)\n",
    "  \n",
    "# sorted array\n",
    "sorted_array = arr[sorted_index_array]\n",
    "  \n",
    "print(\"Sorted array:\", sorted_array)\n",
    "  \n",
    "# we want 5th largest value\n",
    "n = 5\n",
    "  \n",
    "# we are using negative\n",
    "# indexing concept\n",
    "  \n",
    "# find n largest value\n",
    "rslt = sorted_array[-n : ]\n",
    "  \n",
    "# show the output\n",
    "print(\"{} largest value:\".format(n),\n",
    "      rslt)\n",
    "\n"
   ]
  },
  {
   "cell_type": "code",
   "execution_count": null,
   "id": "fcc26c91",
   "metadata": {},
   "outputs": [],
   "source": []
  }
 ],
 "metadata": {
  "kernelspec": {
   "display_name": "Python 3 (ipykernel)",
   "language": "python",
   "name": "python3"
  },
  "language_info": {
   "codemirror_mode": {
    "name": "ipython",
    "version": 3
   },
   "file_extension": ".py",
   "mimetype": "text/x-python",
   "name": "python",
   "nbconvert_exporter": "python",
   "pygments_lexer": "ipython3",
   "version": "3.9.12"
  }
 },
 "nbformat": 4,
 "nbformat_minor": 5
}
